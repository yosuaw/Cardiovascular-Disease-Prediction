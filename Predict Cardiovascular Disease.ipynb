{
 "cells": [
  {
   "cell_type": "markdown",
   "metadata": {},
   "source": [
    "## Load data and Pre-processing"
   ]
  },
  {
   "cell_type": "code",
   "execution_count": 5,
   "metadata": {},
   "outputs": [
    {
     "name": "stdout",
     "output_type": "stream",
     "text": [
      "Duplicated row: 1\n",
      "Duplicated row after dropped: 0\n",
      "2    165\n",
      "3    117\n",
      "1     18\n",
      "0      2\n",
      "Name: thal, dtype: int64\n",
      "2    165\n",
      "3    117\n",
      "1     18\n",
      "Name: thal, dtype: int64\n",
      "Features shape:  (300, 13)\n",
      "Target shape:  (300,)\n"
     ]
    }
   ],
   "source": [
    "import pandas as pd\n",
    "\n",
    "df  = pd.read_csv('heart.csv', sep=',')\n",
    "\n",
    "# Check duplicate value\n",
    "print('Duplicated row:', df.duplicated().sum())\n",
    "df.drop_duplicates(inplace=True)\n",
    "print('Duplicated row after dropped:', df.duplicated().sum())\n",
    "\n",
    "# Checking thal coloumns if there is any null values (represented as 0)\n",
    "print(df['thal'].value_counts())\n",
    "df.drop(df[df['thal'] == 0].index, inplace=True) # Drop 0's as they mean missing value\n",
    "print(df['thal'].value_counts())\n",
    "\n",
    "data = df.values\n",
    "features = data[:, 0:13]\n",
    "target = data[:, 13]\n",
    "\n",
    "print('Features shape: ', features.shape)\n",
    "print('Target shape: ', target.shape)"
   ]
  },
  {
   "cell_type": "markdown",
   "metadata": {},
   "source": [
    "## Split dataset using StratifiedShuffleSplit to make data stratified"
   ]
  },
  {
   "cell_type": "code",
   "execution_count": 8,
   "metadata": {},
   "outputs": [
    {
     "name": "stdout",
     "output_type": "stream",
     "text": [
      "xtrain shape (210, 13)\n",
      "ytrain shape (210,)\n",
      "xtest shape (90, 13)\n",
      "ytest shape (90,)\n"
     ]
    }
   ],
   "source": [
    "from sklearn.model_selection import StratifiedShuffleSplit\n",
    "\n",
    "sss = StratifiedShuffleSplit(n_splits=2, test_size=0.3, random_state=1)\n",
    "\n",
    "for train_index, test_index in sss.split(features, target):\n",
    "    xtrain, xtest = features[train_index], features[test_index]\n",
    "    ytrain, ytest = target[train_index], target[test_index]\n",
    "\n",
    "print(\"xtrain shape\", xtrain.shape)\n",
    "print(\"ytrain shape\", ytrain.shape)\n",
    "print(\"xtest shape\", xtest.shape)\n",
    "print(\"ytest shape\", ytest.shape)"
   ]
  },
  {
   "cell_type": "markdown",
   "metadata": {},
   "source": [
    "## Standardization using StandardScaler"
   ]
  },
  {
   "cell_type": "code",
   "execution_count": 9,
   "metadata": {},
   "outputs": [],
   "source": [
    "from sklearn.preprocessing import StandardScaler\n",
    "\n",
    "scaler = StandardScaler()\n",
    "xtrain = scaler.fit_transform(xtrain)\n",
    "xtest = scaler.transform(xtest)"
   ]
  },
  {
   "cell_type": "markdown",
   "metadata": {},
   "source": [
    "## Build classification model using ANN method"
   ]
  },
  {
   "cell_type": "code",
   "execution_count": 10,
   "metadata": {},
   "outputs": [
    {
     "name": "stdout",
     "output_type": "stream",
     "text": [
      "Neuron in hidden layer: 1, test accuracy 80.00 %\n",
      "Neuron in hidden layer: 1, train accuracy 85.24 %\n",
      "Mean accuracy: 54.33%\n",
      "\n",
      "Neuron in hidden layer: 2, test accuracy 82.22 %\n",
      "Neuron in hidden layer: 2, train accuracy 79.52 %\n",
      "Mean accuracy: 63.00%\n",
      "\n",
      "Neuron in hidden layer: 3, test accuracy 83.33 %\n",
      "Neuron in hidden layer: 3, train accuracy 86.19 %\n",
      "Mean accuracy: 59.33%\n",
      "\n",
      "Neuron in hidden layer: 4, test accuracy 84.44 %\n",
      "Neuron in hidden layer: 4, train accuracy 87.62 %\n",
      "Mean accuracy: 45.67%\n",
      "\n",
      "Neuron in hidden layer: 5, test accuracy 87.78 %\n",
      "Neuron in hidden layer: 5, train accuracy 86.19 %\n",
      "Mean accuracy: 84.67%\n",
      "\n",
      "Neuron in hidden layer: 6, test accuracy 85.56 %\n",
      "Neuron in hidden layer: 6, train accuracy 87.62 %\n",
      "Mean accuracy: 77.67%\n",
      "\n",
      "Neuron in hidden layer: 7, test accuracy 87.78 %\n",
      "Neuron in hidden layer: 7, train accuracy 89.05 %\n",
      "Mean accuracy: 62.00%\n",
      "\n",
      "Neuron in hidden layer: 8, test accuracy 81.11 %\n",
      "Neuron in hidden layer: 8, train accuracy 88.10 %\n",
      "Mean accuracy: 83.33%\n",
      "\n",
      "Neuron in hidden layer: 9, test accuracy 88.89 %\n",
      "Neuron in hidden layer: 9, train accuracy 90.48 %\n",
      "Mean accuracy: 83.00%\n",
      "\n",
      "Neuron in hidden layer: 10, test accuracy 85.56 %\n",
      "Neuron in hidden layer: 10, train accuracy 90.95 %\n",
      "Mean accuracy: 82.33%\n",
      "\n",
      "Neuron in hidden layer: 11, test accuracy 83.33 %\n",
      "Neuron in hidden layer: 11, train accuracy 90.48 %\n",
      "Mean accuracy: 58.33%\n",
      "\n",
      "Neuron in hidden layer: 12, test accuracy 84.44 %\n",
      "Neuron in hidden layer: 12, train accuracy 90.95 %\n",
      "Mean accuracy: 83.67%\n",
      "\n",
      "Neuron in hidden layer: 13, test accuracy 83.33 %\n",
      "Neuron in hidden layer: 13, train accuracy 91.43 %\n",
      "Mean accuracy: 79.67%\n",
      "\n",
      "Neuron in hidden layer: 14, test accuracy 78.89 %\n",
      "Neuron in hidden layer: 14, train accuracy 96.19 %\n",
      "Mean accuracy: 82.67%\n",
      "\n",
      "Neuron in hidden layer: 15, test accuracy 85.56 %\n",
      "Neuron in hidden layer: 15, train accuracy 90.48 %\n",
      "Mean accuracy: 80.67%\n",
      "\n"
     ]
    }
   ],
   "source": [
    "from sklearn.neural_network import MLPClassifier\n",
    "from sklearn.metrics import accuracy_score\n",
    "from sklearn.model_selection import cross_val_score\n",
    "\n",
    "for nh in range(1,16): \n",
    "    ann = MLPClassifier(hidden_layer_sizes = (nh,), max_iter = 10000, random_state = 1)\n",
    "    ann.fit(xtrain,ytrain)\n",
    "    ypred = ann.predict(xtest)\n",
    "    acc = 100*accuracy_score(ytest,ypred)\n",
    "    print(\"Neuron in hidden layer: %g, test accuracy %.2f %%\"%(nh, acc))\n",
    "    ypredtrain = ann.predict(xtrain)\n",
    "    acc = 100*accuracy_score(ytrain, ypredtrain)\n",
    "    print(\"Neuron in hidden layer: %g, train accuracy %.2f %%\"%(nh, acc))\n",
    "    accuracy = cross_val_score(ann, features, target, cv=10)\n",
    "    print('Mean accuracy: %3.2f%%' %(100*accuracy.mean()))\n",
    "    print(\"\")"
   ]
  },
  {
   "cell_type": "markdown",
   "metadata": {},
   "source": [
    "## Build classification model using Logistic Regression method"
   ]
  },
  {
   "cell_type": "code",
   "execution_count": 12,
   "metadata": {},
   "outputs": [
    {
     "name": "stdout",
     "output_type": "stream",
     "text": [
      "Test accuracy: 86.67 %\n",
      "Train accuracy: 86.67 %\n",
      "Mean accuracy: 84.00%\n",
      "              precision    recall  f1-score   support\n",
      "\n",
      "         0.0       0.91      0.78      0.84        41\n",
      "         1.0       0.84      0.94      0.88        49\n",
      "\n",
      "    accuracy                           0.87        90\n",
      "   macro avg       0.88      0.86      0.86        90\n",
      "weighted avg       0.87      0.87      0.87        90\n",
      "\n"
     ]
    }
   ],
   "source": [
    "from sklearn.linear_model import LogisticRegression\n",
    "from sklearn.metrics import classification_report\n",
    "\n",
    "logr = LogisticRegression(solver='liblinear')\n",
    "logr.fit(xtrain, ytrain)\n",
    "ypred = logr.predict(xtest)\n",
    "acc = 100 * accuracy_score(ytest, ypred)\n",
    "print('Test accuracy: %2.2f %%'%acc)\n",
    "\n",
    "ypredtrain = logr.predict(xtrain)\n",
    "acc = 100 * accuracy_score(ytrain, ypredtrain)\n",
    "print('Train accuracy: %2.2f %%'%acc)\n",
    "\n",
    "accuracy = cross_val_score(logr, features, target, cv=10)\n",
    "print('Mean accuracy: %2.2f%%' %(100*accuracy.mean()))\n",
    "\n",
    "print(classification_report(ytest, ypred)) #Support adalah jumlah kelas yang sebenarnya"
   ]
  },
  {
   "cell_type": "markdown",
   "metadata": {},
   "source": [
    "## Classification report on the best model"
   ]
  },
  {
   "cell_type": "code",
   "execution_count": 13,
   "metadata": {},
   "outputs": [
    {
     "name": "stdout",
     "output_type": "stream",
     "text": [
      "Neuron in hidden layer: 9, test accuracy 88.89 %\n",
      "Neuron in hidden layer: 9, train accuracy 90.48 %\n",
      "Mean accuracy: 83.00%\n",
      "\n",
      "              precision    recall  f1-score   support\n",
      "\n",
      "         0.0       0.90      0.85      0.88        41\n",
      "         1.0       0.88      0.92      0.90        49\n",
      "\n",
      "    accuracy                           0.89        90\n",
      "   macro avg       0.89      0.89      0.89        90\n",
      "weighted avg       0.89      0.89      0.89        90\n",
      "\n"
     ]
    }
   ],
   "source": [
    "from sklearn.metrics import classification_report\n",
    "\n",
    "ann = MLPClassifier(hidden_layer_sizes = (9,), max_iter = 10000, random_state = 1)\n",
    "ann.fit(xtrain,ytrain)\n",
    "ypred = ann.predict(xtest)\n",
    "acc = 100*accuracy_score(ytest,ypred)\n",
    "print(\"Neuron in hidden layer: %g, test accuracy %.2f %%\"%(9, acc))\n",
    "\n",
    "ypredtrain = ann.predict(xtrain)\n",
    "acc = 100*accuracy_score(ytrain, ypredtrain)\n",
    "print(\"Neuron in hidden layer: %g, train accuracy %.2f %%\"%(9, acc))\n",
    "\n",
    "accuracy = cross_val_score(ann, features, target, cv=10)\n",
    "print('Mean accuracy: %3.2f%%' %(100*accuracy.mean()))\n",
    "print(\"\")\n",
    "\n",
    "print(classification_report(ytest, ypred)) #Support adalah jumlah kelas yang sebenarnya"
   ]
  }
 ],
 "metadata": {
  "kernelspec": {
   "display_name": "Python 3",
   "language": "python",
   "name": "python3"
  },
  "language_info": {
   "codemirror_mode": {
    "name": "ipython",
    "version": 3
   },
   "file_extension": ".py",
   "mimetype": "text/x-python",
   "name": "python",
   "nbconvert_exporter": "python",
   "pygments_lexer": "ipython3",
   "version": "3.8.5"
  }
 },
 "nbformat": 4,
 "nbformat_minor": 4
}
